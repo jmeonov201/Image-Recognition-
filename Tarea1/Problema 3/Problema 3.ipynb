{
 "cells": [
  {
   "cell_type": "markdown",
   "metadata": {},
   "source": [
    "# Johantan Meoño"
   ]
  },
  {
   "cell_type": "markdown",
   "metadata": {},
   "source": [
    "# Problema 3"
   ]
  },
  {
   "cell_type": "code",
   "execution_count": 1,
   "metadata": {},
   "outputs": [],
   "source": [
    "import numpy as np ## para las matrices y vectores o tensores"
   ]
  },
  {
   "cell_type": "code",
   "execution_count": 2,
   "metadata": {},
   "outputs": [],
   "source": [
    "import cv2 ## jalando open cv carga y lee imagenes"
   ]
  },
  {
   "cell_type": "code",
   "execution_count": 3,
   "metadata": {},
   "outputs": [],
   "source": [
    "import sys ## para sacar de memoria o sacar el programa"
   ]
  },
  {
   "cell_type": "code",
   "execution_count": 4,
   "metadata": {},
   "outputs": [],
   "source": [
    "## creando la fucion\n",
    "def main(imagen):\n",
    "    imgStr = imagen ## creo un objeto y le asigno un valor string con el nombre de la imagen\n",
    "    img = cv2.imread(imgStr) ## creo un nuevo objeto que va a leer la imagen cread en la fila de arriba  \n",
    "    \n",
    "    ## tamañao de la imagen\n",
    "    alto = img.shape[0]\n",
    "    ancho = img.shape[1]\n",
    "    canales = img.shape[2]\n",
    "\n",
    "    \n",
    "    ## cubo de ceros con las dimensiones de la imagen\n",
    "    ## se pondra tres pues se trabajara sobre la imagen a colores\n",
    "    ## cons sus tres canales \n",
    "    ## canal 1 es el canal azul\n",
    "    ## canal 2 es el canal verde\n",
    "    ## canal 3 es el canal rojo\n",
    "    out_azg = np.zeros((alto,ancho,3))\n",
    "    out_veg = np.zeros((alto,ancho,3))\n",
    "    out_rog = np.zeros((alto,ancho,3))\n",
    "    \n",
    "    ## llenando de azul la imagen \n",
    "    for i in range(alto):\n",
    "        for j in range(ancho):\n",
    "            pixel = img[i,j] ## extraigo de la imagen en la posicion i, j, el pixel\n",
    "            azul_gris = int((int(pixel[0])+int(pixel[0])+int(pixel[0]))/3) ## del pixel saco el color azul\n",
    "            verde_gris = int((int(pixel[1])+int(pixel[1])+int(pixel[1]))/3) ## de pixel sacor el color verde\n",
    "            rojo_gris = int((int(pixel[2])+int(pixel[2])+int(pixel[2]))/3) ## de pixel sacor el color rojo\n",
    "            \n",
    "            out_azg[i,j] = azul_gris\n",
    "            out_veg[i,j] = verde_gris\n",
    "            out_rog[i,j] = rojo_gris\n",
    "                \n",
    "    ## para que fucione el ciclo debo:\n",
    "    ## bajar la imagen al disco\n",
    "    cv2.imwrite(str(imagen)+\"azul_gris.jpg\",out_azg)\n",
    "    cv2.imwrite(str(imagen)+\"verde_gris.jpg\",out_veg)\n",
    "    cv2.imwrite(str(imagen)+\"rojo_gris.jpg\",out_rog)\n",
    "    \n",
    "    \n",
    "    ## la vuelvo a cargar o leer\n",
    "    out_azg = cv2.imread(str(imagen)+\"azul_gris.jpg\")\n",
    "    out_veg = cv2.imread(str(imagen)+\"verde_gris.jpg\")\n",
    "    out_rog = cv2.imread(str(imagen)+\"rojo_gris.jpg\")\n",
    "    \n",
    "    \n",
    "    ## y la muestro\n",
    "    cv2.imshow(\"Imagen azul_gris\",out_azg)\n",
    "    cv2.imshow(\"Imagen verde_gris\",out_veg)\n",
    "    cv2.imshow(\"Imagen rojo_gris\",out_rog)\n",
    "    \n",
    "            \n",
    "    ## comandos para cerrar imagenes\n",
    "    cv2.waitKey(0) ## espera que apeche tecla para cerrar\n",
    "    cv2.destroyAllWindows() ## si tngo varias ventas cierra todoas las ventanas a la vez\n",
    "    sys.exit() ##"
   ]
  },
  {
   "cell_type": "code",
   "execution_count": 5,
   "metadata": {},
   "outputs": [
    {
     "ename": "SystemExit",
     "evalue": "",
     "output_type": "error",
     "traceback": [
      "An exception has occurred, use %tb to see the full traceback.\n",
      "\u001b[1;31mSystemExit\u001b[0m\n"
     ]
    },
    {
     "name": "stderr",
     "output_type": "stream",
     "text": [
      "C:\\Users\\Johnatan\\Anaconda3\\lib\\site-packages\\IPython\\core\\interactiveshell.py:2971: UserWarning: To exit: use 'exit', 'quit', or Ctrl-D.\n",
      "  warn(\"To exit: use 'exit', 'quit', or Ctrl-D.\", stacklevel=1)\n"
     ]
    }
   ],
   "source": [
    "main(\"noticia_normal.jpg\")"
   ]
  },
  {
   "cell_type": "code",
   "execution_count": null,
   "metadata": {},
   "outputs": [],
   "source": []
  }
 ],
 "metadata": {
  "kernelspec": {
   "display_name": "Python 3",
   "language": "python",
   "name": "python3"
  },
  "language_info": {
   "codemirror_mode": {
    "name": "ipython",
    "version": 3
   },
   "file_extension": ".py",
   "mimetype": "text/x-python",
   "name": "python",
   "nbconvert_exporter": "python",
   "pygments_lexer": "ipython3",
   "version": "3.6.5"
  }
 },
 "nbformat": 4,
 "nbformat_minor": 2
}
