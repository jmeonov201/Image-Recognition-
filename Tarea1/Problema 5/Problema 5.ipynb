{
 "cells": [
  {
   "cell_type": "markdown",
   "metadata": {},
   "source": [
    "https://www.uv.es/gpoei/eng/Pfc_web/generalidades/grises/grey.htm\n",
    "\n",
    "https://www.lpi.tel.uva.es/~nacho/docencia/ing_ond_1/trabajos_03_04/sonificacion/cabroa_archivos/conversiongrises.html\n",
    "\n",
    "http://jbekios.blogspot.com/2011/09/tips-tres-algoritmos-para-convertir-una.html"
   ]
  },
  {
   "cell_type": "code",
   "execution_count": 1,
   "metadata": {},
   "outputs": [],
   "source": [
    "import numpy as np ## para las matrices y vectores o tensores"
   ]
  },
  {
   "cell_type": "code",
   "execution_count": 2,
   "metadata": {},
   "outputs": [],
   "source": [
    "import cv2 ## jalando open cv carga y lee imagenes"
   ]
  },
  {
   "cell_type": "code",
   "execution_count": 3,
   "metadata": {},
   "outputs": [],
   "source": [
    "import sys ## para sacar de memoria o sacar el programa"
   ]
  },
  {
   "cell_type": "code",
   "execution_count": 4,
   "metadata": {},
   "outputs": [],
   "source": [
    "## creando la fucion\n",
    "def main(imagen):\n",
    "    imgStr = imagen ## creo un objeto y le asigno un valor string con el nombre de la imagen\n",
    "    img = cv2.imread(imgStr) ## creo un nuevo objeto que va a leer la imagen creada en la fila de arriba  \n",
    "    \n",
    "    ## tamañao de la imagen\n",
    "    alto = img.shape[0]\n",
    "    ancho = img.shape[1]\n",
    "    canales = img.shape[2]\n",
    "\n",
    "    \n",
    "    ## cubo de ceros con las dimensiones de la imagen\n",
    "    ## se pondra 1 pues se trabajara sobre la imagen a blanco y negro\n",
    "    ## 1 solo canal\n",
    "    gris = np.zeros((alto,ancho,1))\n",
    "    \n",
    "    ## llenado de gris la imagen  \n",
    "    for i in range(alto):\n",
    "        for j in range(ancho):\n",
    "            pixel = img[i,j] ## extraigo de la imagen en la posicion i, j, el pixel\n",
    "            \n",
    "            ##Luminosity: Media ponderada que considera la forma en que los humanos percibimos los colores.\n",
    "            ##0.21 R + 0.71 G + 0.07 B\n",
    "            ##                               azul               verde              rojo     \n",
    "            grisponderado = int((int(pixel[0]*0.11)+int(pixel[1]*0.59)+int(pixel[2])*0.30)) ## calculo el pixel gris\n",
    "                       \n",
    "            gris[i,j] = grisponderado ## lleno el cubo con los valores del pixel gris \n",
    "          \n",
    "    ## para que fucione el ciclo debo:\n",
    "    ## bajar o escribir la imagen al disco\n",
    "    cv2.imwrite(\"gris.jpg\",gris)\n",
    "    \n",
    "    ## la vuelvo a cargar o leer la imagen guardada en la linea superior \n",
    "    gris = cv2.imread(\"gris.jpg\")\n",
    "    \n",
    "    ## y la muestro\n",
    "    cv2.imshow(\"Imagen gris\", gris)\n",
    "      \n",
    "    ## comandos para cerrar imagenes\n",
    "    cv2.waitKey(0) ## espera que apeche tecla para cerrar\n",
    "    cv2.destroyAllWindows() ## si tngo varias ventas cierra todoas las ventanas a la vez\n",
    "    sys.exit() ##"
   ]
  },
  {
   "cell_type": "code",
   "execution_count": 5,
   "metadata": {},
   "outputs": [
    {
     "ename": "SystemExit",
     "evalue": "",
     "output_type": "error",
     "traceback": [
      "An exception has occurred, use %tb to see the full traceback.\n",
      "\u001b[1;31mSystemExit\u001b[0m\n"
     ]
    },
    {
     "name": "stderr",
     "output_type": "stream",
     "text": [
      "C:\\Users\\Johnatan\\Anaconda3\\lib\\site-packages\\IPython\\core\\interactiveshell.py:2971: UserWarning: To exit: use 'exit', 'quit', or Ctrl-D.\n",
      "  warn(\"To exit: use 'exit', 'quit', or Ctrl-D.\", stacklevel=1)\n"
     ]
    }
   ],
   "source": [
    "main(\"noticia_normal.jpg\")"
   ]
  },
  {
   "cell_type": "markdown",
   "metadata": {},
   "source": [
    "# Area de pruebas "
   ]
  },
  {
   "cell_type": "code",
   "execution_count": 4,
   "metadata": {},
   "outputs": [],
   "source": [
    "vector = np.zeros((3,3,1))"
   ]
  },
  {
   "cell_type": "code",
   "execution_count": 5,
   "metadata": {},
   "outputs": [
    {
     "name": "stdout",
     "output_type": "stream",
     "text": [
      "Rango es el de un cubo pues es una imagen a colores 3\n"
     ]
    }
   ],
   "source": [
    "print(\"Rango es el de un cubo pues es una imagen a colores\", vector.ndim) "
   ]
  },
  {
   "cell_type": "code",
   "execution_count": 6,
   "metadata": {},
   "outputs": [
    {
     "name": "stdout",
     "output_type": "stream",
     "text": [
      "Forma del cubo: alto, ancho y canales (3, 3, 1)\n"
     ]
    }
   ],
   "source": [
    "print(\"Forma del cubo: alto, ancho y canales\", vector.shape)"
   ]
  },
  {
   "cell_type": "code",
   "execution_count": 7,
   "metadata": {},
   "outputs": [
    {
     "name": "stdout",
     "output_type": "stream",
     "text": [
      "Este es el cubo [[[0.]\n",
      "  [0.]\n",
      "  [0.]]\n",
      "\n",
      " [[0.]\n",
      "  [0.]\n",
      "  [0.]]\n",
      "\n",
      " [[0.]\n",
      "  [0.]\n",
      "  [0.]]]\n"
     ]
    }
   ],
   "source": [
    "print(\"Este es el cubo\", vector)"
   ]
  },
  {
   "cell_type": "code",
   "execution_count": null,
   "metadata": {},
   "outputs": [],
   "source": []
  }
 ],
 "metadata": {
  "kernelspec": {
   "display_name": "Python 3",
   "language": "python",
   "name": "python3"
  },
  "language_info": {
   "codemirror_mode": {
    "name": "ipython",
    "version": 3
   },
   "file_extension": ".py",
   "mimetype": "text/x-python",
   "name": "python",
   "nbconvert_exporter": "python",
   "pygments_lexer": "ipython3",
   "version": "3.6.5"
  }
 },
 "nbformat": 4,
 "nbformat_minor": 2
}
