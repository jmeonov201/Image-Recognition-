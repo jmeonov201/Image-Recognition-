{
 "cells": [
  {
   "cell_type": "markdown",
   "metadata": {},
   "source": [
    "# Johantan Meoño"
   ]
  },
  {
   "cell_type": "markdown",
   "metadata": {},
   "source": [
    "# Problema 2"
   ]
  },
  {
   "cell_type": "code",
   "execution_count": 1,
   "metadata": {},
   "outputs": [],
   "source": [
    "import numpy as np ## para las matrices y vectores o tensores"
   ]
  },
  {
   "cell_type": "code",
   "execution_count": 2,
   "metadata": {},
   "outputs": [],
   "source": [
    "import cv2 ## jalando open cv carga y lee imagenes"
   ]
  },
  {
   "cell_type": "code",
   "execution_count": 3,
   "metadata": {},
   "outputs": [],
   "source": [
    "import sys ## para sacar de memoria o sacar el programa"
   ]
  },
  {
   "cell_type": "code",
   "execution_count": 40,
   "metadata": {},
   "outputs": [],
   "source": [
    "## creando la función\n",
    "def main(imagen_gris_azul,imagen_gris_verde,imagen_gris_roja):\n",
    "        \n",
    "    ## cargando las imagenes\n",
    "    imgStrpaz = imagen_gris_azul ## creo un objeto y le asigno un valor string con el nombre de la imagen\n",
    "    imgpaz = cv2.imread(imgStrpaz) ## creo un nuevo objeto que va a leer la imagen cread en la fila de arriba \n",
    "\n",
    "    ## imamgen 2\n",
    "    imgStrpve = imagen_gris_verde ## creo un objeto y le asigno un valor string con el nombre de la imagen\n",
    "    imgpve = cv2.imread(imgStrpve) ## creo un nuevo objeto que va a leer la imagen cread en la fila de arriba\n",
    "\n",
    "    ## imamgen 3\n",
    "    imgStrpro = imagen_gris_roja ## creo un objeto y le asigno un valor string con el nombre de la imagen\n",
    "    imgpro = cv2.imread(imgStrpro) ## creo un nuevo objeto que va a leer la imagen cread en la fila de arriba\n",
    "    \n",
    "    ## tamañao de la imagen 1\n",
    "    altopaz = imgpaz.shape[0]\n",
    "    anchopaz = imgpaz.shape[1]\n",
    "    canalespaz = imgpaz.shape[2]\n",
    "\n",
    "    ## tamañao de la imagen 2\n",
    "    altopve = imgpve.shape[0]\n",
    "    anchopve = imgpve.shape[1]\n",
    "    canalespve = imgpve.shape[2]\n",
    "\n",
    "    ## tamañao de la imagen 3\n",
    "    altopro = imgpro.shape[0]\n",
    "    anchopro = imgpro.shape[1]\n",
    "    canalespro = imgpro.shape[2]\n",
    "    \n",
    "    ## genero un cubo que reciba los colores \n",
    "    out = np.zeros((altopro,anchopro,3))\n",
    "    \n",
    "    for i in range(altopaz):\n",
    "        for j in range(anchopaz):\n",
    "            pixelaz = imgpaz[i,j]\n",
    "            azul = pixelaz[0]\n",
    "        \n",
    "            pixelve = imgpve[i,j]\n",
    "            verde = pixelve[0]\n",
    "        \n",
    "            pixelro = imgpro[i,j]\n",
    "            rojo = pixelro[0]\n",
    "        \n",
    "            out[i,j] = [azul,verde,rojo]\n",
    "    \n",
    "    ## para que fucione el ciclo debo:\n",
    "    ## bajar la imagen al disco\n",
    "    cv2.imwrite(str(imagen_gris_azul)+\"color.jpg\",out)\n",
    "    \n",
    "    \n",
    "    ## la vuelvo a cargar o leer\n",
    "    out = cv2.imread(str(imagen_gris_azul)+\"color.jpg\")\n",
    "    \n",
    "    ## y la muestro\n",
    "    cv2.imshow(\"Imagen color\", out)\n",
    "            \n",
    "    ## comandos para cerrar imagenes\n",
    "    cv2.waitKey(0) ## espera que apeche tecla para cerrar\n",
    "    cv2.destroyAllWindows() ## si tngo varias ventas cierra todoas las ventanas a la vez\n",
    "    sys.exit() ##"
   ]
  },
  {
   "cell_type": "code",
   "execution_count": 45,
   "metadata": {},
   "outputs": [
    {
     "ename": "SystemExit",
     "evalue": "",
     "output_type": "error",
     "traceback": [
      "An exception has occurred, use %tb to see the full traceback.\n",
      "\u001b[1;31mSystemExit\u001b[0m\n"
     ]
    },
    {
     "name": "stderr",
     "output_type": "stream",
     "text": [
      "C:\\Users\\Johnatan\\Anaconda3\\lib\\site-packages\\IPython\\core\\interactiveshell.py:2971: UserWarning: To exit: use 'exit', 'quit', or Ctrl-D.\n",
      "  warn(\"To exit: use 'exit', 'quit', or Ctrl-D.\", stacklevel=1)\n"
     ]
    }
   ],
   "source": [
    "main(\"imagen1_salida_gray_azul.jpg\",\"imagen1_salida_gray_verde.jpg\",\"imagen1_salida_gray_rojo.jpg\")"
   ]
  },
  {
   "cell_type": "code",
   "execution_count": 44,
   "metadata": {},
   "outputs": [
    {
     "ename": "SystemExit",
     "evalue": "",
     "output_type": "error",
     "traceback": [
      "An exception has occurred, use %tb to see the full traceback.\n",
      "\u001b[1;31mSystemExit\u001b[0m\n"
     ]
    },
    {
     "name": "stderr",
     "output_type": "stream",
     "text": [
      "C:\\Users\\Johnatan\\Anaconda3\\lib\\site-packages\\IPython\\core\\interactiveshell.py:2971: UserWarning: To exit: use 'exit', 'quit', or Ctrl-D.\n",
      "  warn(\"To exit: use 'exit', 'quit', or Ctrl-D.\", stacklevel=1)\n"
     ]
    }
   ],
   "source": [
    "main(\"imagen2_salida_gray_azul.jpg\",\"imagen2_salida_gray_verde.jpg\",\"imagen2_salida_gray_rojo.jpg\")"
   ]
  },
  {
   "cell_type": "code",
   "execution_count": 43,
   "metadata": {},
   "outputs": [
    {
     "ename": "SystemExit",
     "evalue": "",
     "output_type": "error",
     "traceback": [
      "An exception has occurred, use %tb to see the full traceback.\n",
      "\u001b[1;31mSystemExit\u001b[0m\n"
     ]
    },
    {
     "name": "stderr",
     "output_type": "stream",
     "text": [
      "C:\\Users\\Johnatan\\Anaconda3\\lib\\site-packages\\IPython\\core\\interactiveshell.py:2971: UserWarning: To exit: use 'exit', 'quit', or Ctrl-D.\n",
      "  warn(\"To exit: use 'exit', 'quit', or Ctrl-D.\", stacklevel=1)\n"
     ]
    }
   ],
   "source": [
    "main(\"perro_salida_gray_azul.jpg\",\"perro_salida_gray_verde.jpg\",\"perro_salida_gray_rojo.jpg\")"
   ]
  },
  {
   "cell_type": "markdown",
   "metadata": {},
   "source": [
    "# Area de pruebas"
   ]
  },
  {
   "cell_type": "code",
   "execution_count": 31,
   "metadata": {},
   "outputs": [],
   "source": [
    "## imagen 1\n",
    "imgStrpaz = \"perro_salida_gray_azul.jpg\" ## creo un objeto y le asigno un valor string con el nombre de la imagen\n",
    "imgpaz = cv2.imread(imgStrpaz) ## creo un nuevo objeto que va a leer la imagen cread en la fila de arriba \n",
    "\n",
    "## imamgen 2\n",
    "imgStrpve = \"perro_salida_gray_verde.jpg\" ## creo un objeto y le asigno un valor string con el nombre de la imagen\n",
    "imgpve = cv2.imread(imgStrpve) ## creo un nuevo objeto que va a leer la imagen cread en la fila de arriba\n",
    "\n",
    "## imamgen 3\n",
    "imgStrpro = \"perro_salida_gray_rojo.jpg\" ## creo un objeto y le asigno un valor string con el nombre de la imagen\n",
    "imgpro = cv2.imread(imgStrpro) ## creo un nuevo objeto que va a leer la imagen cread en la fila de arriba\n",
    "\n"
   ]
  },
  {
   "cell_type": "code",
   "execution_count": 32,
   "metadata": {},
   "outputs": [],
   "source": [
    "## tamañao de la imagen 1\n",
    "altopaz = imgpaz.shape[0]\n",
    "anchopaz = imgpaz.shape[1]\n",
    "canalespaz = imgpaz.shape[2]\n",
    "\n",
    "## tamañao de la imagen 2\n",
    "altopve = imgpve.shape[0]\n",
    "anchopve = imgpve.shape[1]\n",
    "canalespve = imgpve.shape[2]\n",
    "\n",
    "## tamañao de la imagen 3\n",
    "altopro = imgpro.shape[0]\n",
    "anchopro = imgpro.shape[1]\n",
    "canalespro = imgpro.shape[2]"
   ]
  },
  {
   "cell_type": "code",
   "execution_count": 33,
   "metadata": {},
   "outputs": [
    {
     "name": "stdout",
     "output_type": "stream",
     "text": [
      "alto 227\n",
      "ancho 340\n",
      "canales 3\n",
      "pixeles [6 6 6]\n",
      "alto 227\n",
      "ancho 340\n",
      "canales 3\n",
      "pixeles [52 52 52]\n",
      "alto 227\n",
      "ancho 340\n",
      "canales 3\n",
      "pixeles [101 101 101]\n"
     ]
    }
   ],
   "source": [
    "print(\"alto\", altopaz)\n",
    "print(\"ancho\", anchopaz)\n",
    "print(\"canales\", canalespaz)\n",
    "print(\"pixeles\", imgpaz[0,0])\n",
    "\n",
    "print(\"alto\", altopve)\n",
    "print(\"ancho\", anchopve)\n",
    "print(\"canales\", canalespve)\n",
    "print(\"pixeles\", imgpve[0,0])\n",
    "\n",
    "print(\"alto\", altopro)\n",
    "print(\"ancho\", anchopro)\n",
    "print(\"canales\", canalespro)\n",
    "print(\"pixeles\", imgpro[0,0])"
   ]
  },
  {
   "cell_type": "code",
   "execution_count": 37,
   "metadata": {},
   "outputs": [],
   "source": [
    "out = np.zeros((altopro,anchopro,3))"
   ]
  },
  {
   "cell_type": "code",
   "execution_count": 38,
   "metadata": {},
   "outputs": [
    {
     "data": {
      "text/plain": [
       "(227, 340, 3)"
      ]
     },
     "execution_count": 38,
     "metadata": {},
     "output_type": "execute_result"
    }
   ],
   "source": [
    "out.shape"
   ]
  },
  {
   "cell_type": "code",
   "execution_count": 39,
   "metadata": {},
   "outputs": [
    {
     "ename": "SystemExit",
     "evalue": "",
     "output_type": "error",
     "traceback": [
      "An exception has occurred, use %tb to see the full traceback.\n",
      "\u001b[1;31mSystemExit\u001b[0m\n"
     ]
    },
    {
     "name": "stderr",
     "output_type": "stream",
     "text": [
      "C:\\Users\\Johnatan\\Anaconda3\\lib\\site-packages\\IPython\\core\\interactiveshell.py:2971: UserWarning: To exit: use 'exit', 'quit', or Ctrl-D.\n",
      "  warn(\"To exit: use 'exit', 'quit', or Ctrl-D.\", stacklevel=1)\n"
     ]
    }
   ],
   "source": [
    "for i in range(altopaz):\n",
    "    for j in range(anchopaz):\n",
    "        pixelaz = imgpaz[i,j]\n",
    "        azul = pixelaz[0]\n",
    "        \n",
    "        pixelve = imgpve[i,j]\n",
    "        verde = pixelve[0]\n",
    "        \n",
    "        pixelro = imgpro[i,j]\n",
    "        rojo = pixelro[0]\n",
    "        \n",
    "        out[i,j] = [azul,verde,rojo]\n",
    "    \n",
    "## para que fucione el ciclo debo:\n",
    "## bajar la imagen al disco\n",
    "cv2.imwrite(\"color.jpg\",out)\n",
    "    \n",
    "    \n",
    "## la vuelvo a cargar o leer\n",
    "out = cv2.imread(\"color.jpg\")\n",
    "    \n",
    "## y la muestro\n",
    "cv2.imshow(\"Imagen color\", out)\n",
    "            \n",
    "## comandos para cerrar imagenes\n",
    "cv2.waitKey(0) ## espera que apeche tecla para cerrar\n",
    "cv2.destroyAllWindows() ## si tngo varias ventas cierra todoas las ventanas a la vez\n",
    "sys.exit() ##\n",
    "        \n",
    "        "
   ]
  },
  {
   "cell_type": "code",
   "execution_count": null,
   "metadata": {},
   "outputs": [],
   "source": []
  }
 ],
 "metadata": {
  "kernelspec": {
   "display_name": "Python 3",
   "language": "python",
   "name": "python3"
  },
  "language_info": {
   "codemirror_mode": {
    "name": "ipython",
    "version": 3
   },
   "file_extension": ".py",
   "mimetype": "text/x-python",
   "name": "python",
   "nbconvert_exporter": "python",
   "pygments_lexer": "ipython3",
   "version": "3.6.5"
  }
 },
 "nbformat": 4,
 "nbformat_minor": 2
}
