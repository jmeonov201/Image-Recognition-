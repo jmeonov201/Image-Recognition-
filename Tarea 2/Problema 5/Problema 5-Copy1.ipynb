{
 "cells": [
  {
   "cell_type": "markdown",
   "metadata": {},
   "source": [
    "# Johantan Meoño"
   ]
  },
  {
   "cell_type": "markdown",
   "metadata": {},
   "source": [
    "# Problema 5"
   ]
  },
  {
   "cell_type": "code",
   "execution_count": 25,
   "metadata": {},
   "outputs": [],
   "source": [
    "import numpy as np ## para las matrices y vectores o tensores"
   ]
  },
  {
   "cell_type": "code",
   "execution_count": 26,
   "metadata": {},
   "outputs": [],
   "source": [
    "import cv2 ## jalando open cv carga y lee imagenes"
   ]
  },
  {
   "cell_type": "code",
   "execution_count": 27,
   "metadata": {},
   "outputs": [],
   "source": [
    "import sys ## para sacar de memoria o sacar el programa"
   ]
  },
  {
   "cell_type": "code",
   "execution_count": 36,
   "metadata": {},
   "outputs": [],
   "source": [
    "## creando la fucion\n",
    "def main(imagen):\n",
    "    imgStr = imagen ## creo un objeto y le asigno un valor string con el nombre de la imagen\n",
    "    img = cv2.imread(imgStr) ## creo un nuevo objeto que va a leer la imagen cread en la fila de arriba  \n",
    "    \n",
    "    ## tamañao de la imagen\n",
    "    alto = img.shape[0]\n",
    "    ancho = img.shape[1]\n",
    "    canales = img.shape[2]\n",
    "    \n",
    "    \n",
    "    ## matrices \n",
    "    ## matriz de azules\n",
    "    matriz_azul = np.zeros((alto,ancho))\n",
    "    \n",
    "    ## mariz de verdes\n",
    "    matriz_verde = np.zeros((alto,ancho))\n",
    "    \n",
    "    ## matiz de rojos\n",
    "    matriz_roja = np.zeros((alto,ancho))\n",
    "    \n",
    "    ## cubo de ceros con las dimensiones de la imagen\n",
    "    ## se pondra tres pues se trabajara sobre la imagen a colores\n",
    "    ## cons sus tres canales \n",
    "    ## canal 1 es el canal azul\n",
    "    ## canal 2 es el canal verde\n",
    "    ## canal 3 es el canal rojo\n",
    "    \n",
    "    kernel = np.array ([[0,-1,0],\n",
    "                        [-1,5,-1],\n",
    "                        [0,-1,0],\n",
    "                                ]) ## kenel sharpen \n",
    "    \n",
    "    \n",
    "    #convolusion = np.zeros((alto+2,ancho+2,3))\n",
    "    convolusion = np.zeros_like(img)\n",
    "    \n",
    "    image_padded = np.zeros((alto + 2, ancho + 2,3))   \n",
    "    image_padded[1:-1, 1:-1] = img\n",
    "    \n",
    "    ## sacando de la imgaen todos los azules, verdes y rojos\n",
    "    for x in range(img.shape[1]):\n",
    "        for y in range(img.shape[0]):\n",
    "            convolusion[i,j]=(kernel*image_padded[y:y+3,x:x+3]).sum() \n",
    "            #pixel = img[i,j] ## saco el pixel\n",
    "            \n",
    "            #azul = pixel[0] ## al pixel le saco el azul\n",
    "            #verde = pixel[1] ## al pixel le saco el verde\n",
    "            #rojo = pixel[2] ## al pixel le saco el rojo\n",
    "            \n",
    "            ## llenando las matrices con los colores\n",
    "            #matriz_azul[i,j] = azul\n",
    "            #matriz_verde[i,j] = verde\n",
    "            #matriz_roja[i,j] = rojo\n",
    "    \n",
    "    ## subporcionando \n",
    "    #for i in range(alto-2):\n",
    "        #for j in range(ancho-2):\n",
    "            ## subporciones\n",
    "            #porcion_azul = matriz_azul[i:i+3,j:j+3]\n",
    "            #porcion_verde = matriz_verde[i:i+3,j:j+3]\n",
    "            #porcion_rojo = matriz_roja[i:i+3,j:j+3]\n",
    "    \n",
    "    ## productos y sumas \n",
    "    #for i in range(alto):\n",
    "        #for j in range(ancho):           \n",
    "            ## convolusion\n",
    "            #azul_convolusion = np.sum(kernel*porcion_azul) ## producto hadamor \n",
    "            #verde_convolusion = np.sum(kernel*porcion_verde) ## producto hadamor \n",
    "            #rojo_convolusion = np.sum(kernel*porcion_rojo) ## producto hadamor \n",
    "            \n",
    "            \n",
    "            ## lleando la convolusion \n",
    "            #convolusion[i,j] = [azul_convolusion,verde_convolusion,rojo_convolusion]\n",
    "    \n",
    "    ## para que fucione el ciclo debo:\n",
    "    ## bajar la imagen al disco\n",
    "    cv2.imwrite(str(imagen)+\".jpg\",convolusion)\n",
    "    \n",
    "    \n",
    "    ## la vuelvo a cargar o leer\n",
    "    convolusion = cv2.imread(str(imagen)+\".jpg\")\n",
    "    \n",
    "    ## y la muestro\n",
    "    cv2.imshow(\"Imagen\"+str(imagen),convolusion)\n",
    "            \n",
    "    ## comandos para cerrar imagenes\n",
    "    cv2.waitKey(0) ## espera que apeche tecla para cerrar\n",
    "    cv2.destroyAllWindows() ## si tngo varias ventas cierra todoas las ventanas a la vez\n",
    "    sys.exit() ##           "
   ]
  },
  {
   "cell_type": "code",
   "execution_count": 37,
   "metadata": {},
   "outputs": [
    {
     "ename": "SystemExit",
     "evalue": "",
     "output_type": "error",
     "traceback": [
      "An exception has occurred, use %tb to see the full traceback.\n",
      "\u001b[1;31mSystemExit\u001b[0m\n"
     ]
    },
    {
     "name": "stderr",
     "output_type": "stream",
     "text": [
      "C:\\Users\\Johnatan\\Anaconda3\\lib\\site-packages\\IPython\\core\\interactiveshell.py:2971: UserWarning: To exit: use 'exit', 'quit', or Ctrl-D.\n",
      "  warn(\"To exit: use 'exit', 'quit', or Ctrl-D.\", stacklevel=1)\n"
     ]
    }
   ],
   "source": [
    "main(\"doggy.jpg\")"
   ]
  },
  {
   "cell_type": "code",
   "execution_count": 5,
   "metadata": {},
   "outputs": [],
   "source": [
    "matriz = np.zeros((100,20))"
   ]
  },
  {
   "cell_type": "code",
   "execution_count": 6,
   "metadata": {},
   "outputs": [
    {
     "data": {
      "text/plain": [
       "(100, 20)"
      ]
     },
     "execution_count": 6,
     "metadata": {},
     "output_type": "execute_result"
    }
   ],
   "source": [
    "matriz.shape\n"
   ]
  },
  {
   "cell_type": "code",
   "execution_count": 7,
   "metadata": {},
   "outputs": [],
   "source": [
    "arreglo = np.array([[3,2],\n",
    "                    [4,6],])"
   ]
  },
  {
   "cell_type": "code",
   "execution_count": 8,
   "metadata": {},
   "outputs": [
    {
     "data": {
      "text/plain": [
       "15"
      ]
     },
     "execution_count": 8,
     "metadata": {},
     "output_type": "execute_result"
    }
   ],
   "source": [
    "np.sum(arreglo)"
   ]
  },
  {
   "cell_type": "markdown",
   "metadata": {},
   "source": [
    "https://en.wikipedia.org/wiki/Kernel_(image_processing)"
   ]
  },
  {
   "cell_type": "code",
   "execution_count": 9,
   "metadata": {},
   "outputs": [],
   "source": [
    "prueba = np.array([[1,2,3,13],\n",
    "                   [4,5,6,14],\n",
    "                   [7,8,9,15],\n",
    "                   [10,11,12,16]])"
   ]
  },
  {
   "cell_type": "code",
   "execution_count": 10,
   "metadata": {},
   "outputs": [
    {
     "data": {
      "text/plain": [
       "array([[ 1,  2,  3, 13],\n",
       "       [ 4,  5,  6, 14],\n",
       "       [ 7,  8,  9, 15],\n",
       "       [10, 11, 12, 16]])"
      ]
     },
     "execution_count": 10,
     "metadata": {},
     "output_type": "execute_result"
    }
   ],
   "source": [
    "prueba"
   ]
  },
  {
   "cell_type": "code",
   "execution_count": 11,
   "metadata": {},
   "outputs": [],
   "source": [
    "alto = prueba.shape[0]"
   ]
  },
  {
   "cell_type": "code",
   "execution_count": 12,
   "metadata": {},
   "outputs": [
    {
     "data": {
      "text/plain": [
       "4"
      ]
     },
     "execution_count": 12,
     "metadata": {},
     "output_type": "execute_result"
    }
   ],
   "source": [
    "alto"
   ]
  },
  {
   "cell_type": "code",
   "execution_count": 13,
   "metadata": {},
   "outputs": [],
   "source": [
    "ancho = prueba.shape[1]"
   ]
  },
  {
   "cell_type": "code",
   "execution_count": 14,
   "metadata": {},
   "outputs": [
    {
     "data": {
      "text/plain": [
       "4"
      ]
     },
     "execution_count": 14,
     "metadata": {},
     "output_type": "execute_result"
    }
   ],
   "source": [
    "ancho"
   ]
  },
  {
   "cell_type": "code",
   "execution_count": 15,
   "metadata": {},
   "outputs": [
    {
     "data": {
      "text/plain": [
       "array([[1, 2],\n",
       "       [4, 5]])"
      ]
     },
     "execution_count": 15,
     "metadata": {},
     "output_type": "execute_result"
    }
   ],
   "source": [
    "prueba[0:2,0:2]"
   ]
  },
  {
   "cell_type": "code",
   "execution_count": 16,
   "metadata": {},
   "outputs": [
    {
     "data": {
      "text/plain": [
       "array([[1, 2, 3],\n",
       "       [4, 5, 6]])"
      ]
     },
     "execution_count": 16,
     "metadata": {},
     "output_type": "execute_result"
    }
   ],
   "source": [
    "prueba[-5:-2,-4:-1]"
   ]
  },
  {
   "cell_type": "code",
   "execution_count": 17,
   "metadata": {},
   "outputs": [
    {
     "name": "stdout",
     "output_type": "stream",
     "text": [
      "[[1 2 3]\n",
      " [4 5 6]\n",
      " [7 8 9]]\n",
      "[[ 2  3 13]\n",
      " [ 5  6 14]\n",
      " [ 8  9 15]]\n",
      "[[ 3 13]\n",
      " [ 6 14]\n",
      " [ 9 15]]\n",
      "[[13]\n",
      " [14]\n",
      " [15]]\n",
      "[[ 4  5  6]\n",
      " [ 7  8  9]\n",
      " [10 11 12]]\n",
      "[[ 5  6 14]\n",
      " [ 8  9 15]\n",
      " [11 12 16]]\n",
      "[[ 6 14]\n",
      " [ 9 15]\n",
      " [12 16]]\n",
      "[[14]\n",
      " [15]\n",
      " [16]]\n",
      "[[ 7  8  9]\n",
      " [10 11 12]]\n",
      "[[ 8  9 15]\n",
      " [11 12 16]]\n",
      "[[ 9 15]\n",
      " [12 16]]\n",
      "[[15]\n",
      " [16]]\n",
      "[[10 11 12]]\n",
      "[[11 12 16]]\n",
      "[[12 16]]\n",
      "[[16]]\n"
     ]
    }
   ],
   "source": [
    "for i in range(alto):\n",
    "    for j in range(ancho):\n",
    "        pedazo = prueba[i:i+3,j:j+3]\n",
    "        print(pedazo)"
   ]
  },
  {
   "cell_type": "code",
   "execution_count": 17,
   "metadata": {},
   "outputs": [
    {
     "name": "stdout",
     "output_type": "stream",
     "text": [
      "[[1 2 3]\n",
      " [4 5 6]\n",
      " [7 8 9]]\n",
      "[[ 2  3 13]\n",
      " [ 5  6 14]\n",
      " [ 8  9 15]]\n",
      "[[ 4  5  6]\n",
      " [ 7  8  9]\n",
      " [10 11 12]]\n",
      "[[ 5  6 14]\n",
      " [ 8  9 15]\n",
      " [11 12 16]]\n"
     ]
    }
   ],
   "source": [
    "for i in range(alto-2):\n",
    "    for j in range(ancho-2):\n",
    "        pedazo = prueba[i:i+3,j:j+3]\n",
    "        print(pedazo)"
   ]
  },
  {
   "cell_type": "code",
   "execution_count": 22,
   "metadata": {},
   "outputs": [
    {
     "name": "stdout",
     "output_type": "stream",
     "text": [
      "[]\n",
      "[]\n",
      "[]\n",
      "[]\n",
      "[]\n",
      "[[1 2]\n",
      " [4 5]]\n",
      "[[2 3]\n",
      " [5 6]]\n",
      "[[ 3 13]\n",
      " [ 6 14]]\n",
      "[]\n",
      "[[4 5]\n",
      " [7 8]]\n",
      "[[5 6]\n",
      " [8 9]]\n",
      "[[ 6 14]\n",
      " [ 9 15]]\n",
      "[]\n",
      "[[ 7  8]\n",
      " [10 11]]\n",
      "[[ 8  9]\n",
      " [11 12]]\n",
      "[[ 9 15]\n",
      " [12 16]]\n"
     ]
    }
   ],
   "source": [
    "for i in range(alto):\n",
    "    for j in range(ancho):\n",
    "        pedazo = prueba[i-1:i+1,j-1:j+1]\n",
    "        print(pedazo)"
   ]
  },
  {
   "cell_type": "code",
   "execution_count": 22,
   "metadata": {},
   "outputs": [
    {
     "name": "stdout",
     "output_type": "stream",
     "text": [
      "[]\n",
      "[]\n",
      "[]\n",
      "[]\n",
      "[]\n",
      "[[1 2]\n",
      " [4 5]]\n",
      "[[2 3]\n",
      " [5 6]]\n",
      "[[ 3 13]\n",
      " [ 6 14]]\n",
      "[]\n",
      "[[4 5]\n",
      " [7 8]]\n",
      "[[5 6]\n",
      " [8 9]]\n",
      "[[ 6 14]\n",
      " [ 9 15]]\n",
      "[]\n",
      "[[ 7  8]\n",
      " [10 11]]\n",
      "[[ 8  9]\n",
      " [11 12]]\n",
      "[[ 9 15]\n",
      " [12 16]]\n"
     ]
    }
   ],
   "source": [
    "for i in range(alto):\n",
    "    for j in range(ancho):\n",
    "        pedazo = prueba[i-1:i+1,j-1:j+1]\n",
    "        print(pedazo)"
   ]
  },
  {
   "cell_type": "code",
   "execution_count": 30,
   "metadata": {},
   "outputs": [
    {
     "data": {
      "text/plain": [
       "2"
      ]
     },
     "execution_count": 30,
     "metadata": {},
     "output_type": "execute_result"
    }
   ],
   "source": [
    "len(pedazo)"
   ]
  },
  {
   "cell_type": "code",
   "execution_count": 32,
   "metadata": {},
   "outputs": [
    {
     "name": "stdout",
     "output_type": "stream",
     "text": [
      "[[1 2 3]\n",
      " [4 5 6]\n",
      " [7 8 9]]\n",
      "[[2 3]\n",
      " [5 6]\n",
      " [8 9]]\n",
      "[[3]\n",
      " [6]\n",
      " [9]]\n",
      "[[ 4  5  6]\n",
      " [ 7  8  9]\n",
      " [10 11 12]]\n",
      "[[ 5  6]\n",
      " [ 8  9]\n",
      " [11 12]]\n",
      "[[ 6]\n",
      " [ 9]\n",
      " [12]]\n",
      "[[ 7  8  9]\n",
      " [10 11 12]]\n",
      "[[ 8  9]\n",
      " [11 12]]\n",
      "[[ 9]\n",
      " [12]]\n",
      "[[10 11 12]]\n",
      "[[11 12]]\n",
      "[[12]]\n"
     ]
    }
   ],
   "source": [
    "for i in range(alto):\n",
    "    for j in range(ancho):\n",
    "        pedazo = prueba[i:i+3,j:j+3]\n",
    "        print(pedazo)"
   ]
  },
  {
   "cell_type": "code",
   "execution_count": null,
   "metadata": {},
   "outputs": [],
   "source": []
  }
 ],
 "metadata": {
  "kernelspec": {
   "display_name": "Python 3",
   "language": "python",
   "name": "python3"
  },
  "language_info": {
   "codemirror_mode": {
    "name": "ipython",
    "version": 3
   },
   "file_extension": ".py",
   "mimetype": "text/x-python",
   "name": "python",
   "nbconvert_exporter": "python",
   "pygments_lexer": "ipython3",
   "version": "3.6.5"
  }
 },
 "nbformat": 4,
 "nbformat_minor": 2
}
