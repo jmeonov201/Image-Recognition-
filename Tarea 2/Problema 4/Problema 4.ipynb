{
 "cells": [
  {
   "cell_type": "code",
   "execution_count": 10,
   "metadata": {},
   "outputs": [],
   "source": [
    "import numpy as np ## para las matrices y vectores o tensores"
   ]
  },
  {
   "cell_type": "code",
   "execution_count": 11,
   "metadata": {},
   "outputs": [],
   "source": [
    "import cv2 ## jalando open cv carga y lee imagenes"
   ]
  },
  {
   "cell_type": "code",
   "execution_count": 12,
   "metadata": {},
   "outputs": [],
   "source": [
    "import sys ## para sacar de memoria o sacar el programa"
   ]
  },
  {
   "cell_type": "code",
   "execution_count": 19,
   "metadata": {},
   "outputs": [],
   "source": [
    "## creando la fucion\n",
    "def main(imagen):\n",
    "    imgStr = imagen ## creo un objeto y le asigno un valor string con el nombre de la imagen\n",
    "    img = cv2.imread(imgStr) ## creo un nuevo objeto que va a leer la imagen creada en la fila de arriba  \n",
    "    \n",
    "    ## tamañao de la imagen\n",
    "    alto = img.shape[0]\n",
    "    ancho = img.shape[1]\n",
    "    canales = img.shape[2]\n",
    "\n",
    "    \n",
    "    ## cubo de ceros con las dimensiones de la imagen\n",
    "    ## se pondra 1 pues se trabajara sobre la imagen a blanco y negro\n",
    "    ## 1 solo canal\n",
    "    \n",
    "    negativa = np.zeros((alto,ancho,1))\n",
    "    lineal = np.zeros((alto,ancho,1))\n",
    "    logaritmica = np.zeros((alto,ancho,1))\n",
    "    exponencial = np.zeros((alto,ancho,1))\n",
    "   \n",
    "    ## llenado de gris la imagen  \n",
    "    for i in range(alto):\n",
    "        for j in range(ancho):\n",
    "            pixel = img[i,j] ## extraigo de la imagen en la posicion i, j, el pixel\n",
    "            \n",
    "            #***********************************************************************************************************\n",
    "            pixel_negativa = (256-1)-pixel[0]\n",
    "            negativa[i,j] = pixel_negativa\n",
    "            \n",
    "            #***********************************************************************************************************\n",
    "            pixel_lineal = 0.5*pixel[0]+20\n",
    "            lineal[i,j] = pixel_lineal\n",
    "            \n",
    "            #***********************************************************************************************************\n",
    "            pixel_log = 25*np.log(1+pixel[0])\n",
    "            logaritmica[i,j] = pixel_log\n",
    "            \n",
    "            #***********************************************************************************************************\n",
    "            pixel_exp = 250*(np.power((pixel[0]/256),.04))\n",
    "            exponencial[i,j] = pixel_exp\n",
    "            \n",
    "    \n",
    "    ## para que fucione el ciclo debo:\n",
    "    ## bajar o escribir la imagen al disco\n",
    "    cv2.imwrite(\"neg\"+str(imagen)+\".jpg\",negativa)\n",
    "    cv2.imwrite(\"lin\"+str(imagen)+\".jpg\",lineal)\n",
    "    cv2.imwrite(\"log\"+str(imagen)+\".jpg\",logaritmica)\n",
    "    cv2.imwrite(\"exp\"+str(imagen)+\".jpg\",exponencial)\n",
    "    \n",
    "    \n",
    "    ## la vuelvo a cargar o leer la imagen guardada en la linea superior \n",
    "    negativa = cv2.imread(\"neg\"+str(imagen)+\".jpg\")\n",
    "    lineal = cv2.imread(\"lin\"+str(imagen)+\".jpg\")\n",
    "    logaritmica = cv2.imread(\"log\"+str(imagen)+\".jpg\")\n",
    "    exponencial = cv2.imread(\"exp\"+str(imagen)+\".jpg\")\n",
    "    \n",
    "    \n",
    "    ## y la muestro\n",
    "    cv2.imshow(\"neg\"+str(imagen)+\".jpg\", negativa)\n",
    "    cv2.imshow(\"lin\"+str(imagen)+\".jpg\", lineal)\n",
    "    cv2.imshow(\"log\"+str(imagen)+\".jpg\", logaritmica)\n",
    "    cv2.imshow(\"exp\"+str(imagen)+\".jpg\", exponencial)\n",
    "      \n",
    "    ## comandos para cerrar imagenes\n",
    "    cv2.waitKey(0) ## espera que apeche tecla para cerrar\n",
    "    cv2.destroyAllWindows() ## si tngo varias ventas cierra todoas las ventanas a la vez\n",
    "    sys.exit() ##"
   ]
  },
  {
   "cell_type": "code",
   "execution_count": 20,
   "metadata": {},
   "outputs": [
    {
     "ename": "SystemExit",
     "evalue": "",
     "output_type": "error",
     "traceback": [
      "An exception has occurred, use %tb to see the full traceback.\n",
      "\u001b[1;31mSystemExit\u001b[0m\n"
     ]
    },
    {
     "name": "stderr",
     "output_type": "stream",
     "text": [
      "C:\\Users\\Johnatan\\Anaconda3\\lib\\site-packages\\IPython\\core\\interactiveshell.py:2971: UserWarning: To exit: use 'exit', 'quit', or Ctrl-D.\n",
      "  warn(\"To exit: use 'exit', 'quit', or Ctrl-D.\", stacklevel=1)\n"
     ]
    }
   ],
   "source": [
    "main(\"doggygris.jpg\")"
   ]
  },
  {
   "cell_type": "markdown",
   "metadata": {},
   "source": [
    "# Area de pruebas "
   ]
  },
  {
   "cell_type": "code",
   "execution_count": 6,
   "metadata": {},
   "outputs": [
    {
     "data": {
      "text/plain": [
       "0.0"
      ]
     },
     "execution_count": 6,
     "metadata": {},
     "output_type": "execute_result"
    }
   ],
   "source": [
    "np.log(1)"
   ]
  },
  {
   "cell_type": "code",
   "execution_count": 4,
   "metadata": {},
   "outputs": [],
   "source": [
    "vector = np.zeros((3,3,1))"
   ]
  },
  {
   "cell_type": "code",
   "execution_count": 5,
   "metadata": {},
   "outputs": [
    {
     "name": "stdout",
     "output_type": "stream",
     "text": [
      "Rango es el de un cubo pues es una imagen a colores 3\n"
     ]
    }
   ],
   "source": [
    "print(\"Rango es el de un cubo pues es una imagen a colores\", vector.ndim) "
   ]
  },
  {
   "cell_type": "code",
   "execution_count": 6,
   "metadata": {},
   "outputs": [
    {
     "name": "stdout",
     "output_type": "stream",
     "text": [
      "Forma del cubo: alto, ancho y canales (3, 3, 1)\n"
     ]
    }
   ],
   "source": [
    "print(\"Forma del cubo: alto, ancho y canales\", vector.shape)"
   ]
  },
  {
   "cell_type": "code",
   "execution_count": 7,
   "metadata": {},
   "outputs": [
    {
     "name": "stdout",
     "output_type": "stream",
     "text": [
      "Este es el cubo [[[0.]\n",
      "  [0.]\n",
      "  [0.]]\n",
      "\n",
      " [[0.]\n",
      "  [0.]\n",
      "  [0.]]\n",
      "\n",
      " [[0.]\n",
      "  [0.]\n",
      "  [0.]]]\n"
     ]
    }
   ],
   "source": [
    "print(\"Este es el cubo\", vector)"
   ]
  },
  {
   "cell_type": "code",
   "execution_count": null,
   "metadata": {},
   "outputs": [],
   "source": []
  }
 ],
 "metadata": {
  "kernelspec": {
   "display_name": "Python 3",
   "language": "python",
   "name": "python3"
  },
  "language_info": {
   "codemirror_mode": {
    "name": "ipython",
    "version": 3
   },
   "file_extension": ".py",
   "mimetype": "text/x-python",
   "name": "python",
   "nbconvert_exporter": "python",
   "pygments_lexer": "ipython3",
   "version": "3.6.5"
  }
 },
 "nbformat": 4,
 "nbformat_minor": 2
}
