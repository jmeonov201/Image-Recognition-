{
 "cells": [
  {
   "cell_type": "markdown",
   "metadata": {},
   "source": [
    "# Johantan Meoño"
   ]
  },
  {
   "cell_type": "markdown",
   "metadata": {},
   "source": [
    "# Problema 2"
   ]
  },
  {
   "cell_type": "code",
   "execution_count": 52,
   "metadata": {},
   "outputs": [],
   "source": [
    "import numpy as np ## para las matrices y vectores o tensores"
   ]
  },
  {
   "cell_type": "code",
   "execution_count": 53,
   "metadata": {},
   "outputs": [],
   "source": [
    "import cv2 ## jalando open cv carga y lee imagenes"
   ]
  },
  {
   "cell_type": "code",
   "execution_count": 54,
   "metadata": {},
   "outputs": [],
   "source": [
    "import sys ## para sacar de memoria o sacar el programa"
   ]
  },
  {
   "cell_type": "code",
   "execution_count": 55,
   "metadata": {},
   "outputs": [],
   "source": [
    "from operator import xor"
   ]
  },
  {
   "cell_type": "code",
   "execution_count": 64,
   "metadata": {},
   "outputs": [],
   "source": [
    "## creando la fucion\n",
    "def main(imagen1,imagen2,T):\n",
    "    imgStr1 = imagen1 ## creo un objeto y le asigno un valor string con el nombre de la imagen\n",
    "    img1 = cv2.imread(imgStr1) ## creo un nuevo objeto que va a leer la imagen cread en la fila de arriba  \n",
    "    \n",
    "    ## tamañao de la imagen\n",
    "    alto1 = img1.shape[0]\n",
    "    ancho1 = img1.shape[1]\n",
    "    canales1 = img1.shape[2]\n",
    "    \n",
    "    imgStr2 = imagen2 ## creo un objeto y le asigno un valor string con el nombre de la imagen\n",
    "    img2 = cv2.imread(imgStr2) ## creo un nuevo objeto que va a leer la imagen cread en la fila de arriba  \n",
    "    \n",
    "    ## tamañao de la imagen\n",
    "    alto1 = img2.shape[0]\n",
    "    anch2 = img2.shape[1]\n",
    "    canale2 = img2.shape[2]\n",
    "\n",
    "    \n",
    "    ## cubo de ceros con las dimensiones de la imagen\n",
    "    ## se pondra tres pues se trabajara sobre la imagen a colores\n",
    "    ## cons sus tres canales \n",
    "    ## canal 1 es el canal azul\n",
    "    ## canal 2 es el canal verde\n",
    "    ## canal 3 es el canal rojo\n",
    "    ## cubo que recibe la suma \n",
    "    suma = np.zeros((alto1,ancho1,3))\n",
    "    resta = np.zeros((alto1,ancho1,3))\n",
    "    \n",
    "    gris1 = np.zeros((alto1,ancho1,1))\n",
    "    gris2 = np.zeros((alto1,ancho1,1))\n",
    "    \n",
    "    binand = np.zeros((alto1,ancho1,1))\n",
    "    binor = np.zeros((alto1,ancho1,1))\n",
    "    binxor = np.zeros((alto1,ancho1,1))\n",
    "    \n",
    "    \n",
    "    ## llenando de azul la imagen \n",
    "    for i in range(alto1):\n",
    "        for j in range(ancho1):\n",
    "            pixel1 = img1[i,j] ## extraigo de la imagen en la posicion i, j, el pixel\n",
    "            pixel2 = img2[i,j] ## extraigo de la imagen en la posicion i, j, el pixel\n",
    "            \n",
    "            ## suma\n",
    "            azul_suma = pixel1[0]+pixel2[0]\n",
    "            verde_suma = pixel1[1]+pixel2[1]\n",
    "            rojo_suma = pixel1[2]+pixel2[2]\n",
    "            \n",
    "            suma[i,j] = [azul_suma,verde_suma,rojo_suma]     \n",
    "            \n",
    "            ## resta\n",
    "            azul_resta = pixel1[0]-pixel2[0]\n",
    "            verde_resta = pixel1[1]-pixel2[1]\n",
    "            rojo_resta = pixel1[2]-pixel2[2]\n",
    "            \n",
    "            resta[i,j] = [azul_resta,verde_resta,rojo_resta]\n",
    "            \n",
    "            #***********************************************************************************************************\n",
    "            ## grises\n",
    "            ## gris1\n",
    "            grisponderado1 = int((int(pixel1[0]*0.11)+int(pixel1[1]*0.59)+int(pixel1[2])*0.30)) ## calculo el pixel gris                       \n",
    "            gris1[i,j] = grisponderado1 ## lleno el cubo con los valores del pixel gris\n",
    "            \n",
    "            ## gris2\n",
    "            grisponderado2 = int((int(pixel2[0]*0.11)+int(pixel2[1]*0.59)+int(pixel2[2])*0.30)) ## calculo el pixel gris                       \n",
    "            gris2[i,j] = grisponderado2 ## lleno el cubo con los valores del pixel gris\n",
    "            \n",
    "            ## pixeles\n",
    "            pixel_gris1 = gris1[i,j]\n",
    "            pixel_gris2 = gris2[i,j]\n",
    "            \n",
    "            #***********************************************************************************************************\n",
    "            \n",
    "            ## binario con AND\n",
    "            blanco_negro_and = (int(pixel_gris1[0])>= T) and (int(pixel_gris2[0])>= T)\n",
    "            \n",
    "            ## como la linea anterior devuelve ceros y unos, esos ceros y unos lo paso a pixeles            \n",
    "            if blanco_negro_and == 1: #booleano uno\n",
    "                blanco_negro_and = 0 #es el pixel cero\n",
    "            elif blanco_negro_and == 0: #booleano cero \n",
    "                blanco_negro_and = 255 #es el picel 255\n",
    "            \n",
    "            binand[i,j] = blanco_negro_and ##llenando la imagen los blancos y negros\n",
    "            \n",
    "            #***********************************************************************************************************\n",
    "            \n",
    "            ## binario con OR \n",
    "            blanco_negro_or = (int(pixel_gris1[0])>= T) or (int(pixel_gris2[0])>= T)\n",
    "            \n",
    "            ## como la linea anterior devuelve ceros y unos, esos ceros y unos lo paso a pixeles            \n",
    "            if blanco_negro_or == 1: #booleano uno\n",
    "                blanco_negro_or = 0 #es el pixel cero\n",
    "            elif blanco_negro_or == 0: #booleano cero \n",
    "                blanco_negro_or = 255 #es el picel 255\n",
    "            \n",
    "            binor[i,j] = blanco_negro_or ##llenando la imagen los blancos y negros\n",
    "            \n",
    "            #***********************************************************************************************************\n",
    "            \n",
    "            ## binario con XOR \n",
    "            blanco_negro_xor = xor((int(pixel_gris1[0])>= T),(int(pixel_gris2[0])>= T))\n",
    "            \n",
    "            ## como la linea anterior devuelve ceros y unos, esos ceros y unos lo paso a pixeles            \n",
    "            if blanco_negro_xor == 1: #booleano uno\n",
    "                blanco_negro_xor = 0 #es el pixel cero\n",
    "            elif blanco_negro_xor == 0: #booleano cero \n",
    "                blanco_negro_xor = 255 #es el picel 255\n",
    "            \n",
    "            binxor[i,j] = blanco_negro_xor ##llenando la imagen los blancos y negros\n",
    "               \n",
    "    ## para que fucione el ciclo debo:\n",
    "    ## bajar la imagen al disco\n",
    "    cv2.imwrite(\"suma\"+str(imagen1)+str(imagen2)+\".jpg\",suma)\n",
    "    cv2.imwrite(\"resta\"+str(imagen1)+str(imagen2)+\".jpg\",resta)\n",
    "    cv2.imwrite(\"binand\"+str(imagen1)+str(imagen2)+\".jpg\",binand)\n",
    "    cv2.imwrite(\"binor\"+str(imagen1)+str(imagen2)+\".jpg\",binor)\n",
    "    cv2.imwrite(\"binxor\"+str(imagen1)+str(imagen2)+\".jpg\",binxor)\n",
    "    \n",
    "    \n",
    "    ## la vuelvo a cargar o leer\n",
    "    suma = cv2.imread(\"suma\"+str(imagen1)+str(imagen2)+\".jpg\")\n",
    "    resta = cv2.imread(\"resta\"+str(imagen1)+str(imagen2)+\".jpg\")\n",
    "    binand = cv2.imread(\"binand\"+str(imagen1)+str(imagen2)+\".jpg\")\n",
    "    binor = cv2.imread(\"binor\"+str(imagen1)+str(imagen2)+\".jpg\")\n",
    "    binxor = cv2.imread(\"binxor\"+str(imagen1)+str(imagen2)+\".jpg\")\n",
    "    \n",
    "    ## y la muestro\n",
    "    cv2.imshow(\"suma\"+str(imagen1)+str(imagen2)+\".jpg\",suma)\n",
    "    cv2.imshow(\"resta\"+str(imagen1)+str(imagen2)+\".jpg\",resta)\n",
    "    cv2.imshow(\"binand\"+str(imagen1)+str(imagen2)+\".jpg\",binand)\n",
    "    cv2.imshow(\"binor\"+str(imagen1)+str(imagen2)+\".jpg\",binor)\n",
    "    cv2.imshow(\"binxor\"+str(imagen1)+str(imagen2)+\".jpg\",binxor)\n",
    "            \n",
    "    ## comandos para cerrar imagenes\n",
    "    cv2.waitKey(0) ## espera que apeche tecla para cerrar\n",
    "    cv2.destroyAllWindows() ## si tngo varias ventas cierra todoas las ventanas a la vez\n",
    "    sys.exit() ##"
   ]
  },
  {
   "cell_type": "code",
   "execution_count": 66,
   "metadata": {},
   "outputs": [
    {
     "name": "stderr",
     "output_type": "stream",
     "text": [
      "C:\\Users\\Johnatan\\Anaconda3\\lib\\site-packages\\ipykernel_launcher.py:52: RuntimeWarning: overflow encountered in ubyte_scalars\n",
      "C:\\Users\\Johnatan\\Anaconda3\\lib\\site-packages\\ipykernel_launcher.py:53: RuntimeWarning: overflow encountered in ubyte_scalars\n",
      "C:\\Users\\Johnatan\\Anaconda3\\lib\\site-packages\\ipykernel_launcher.py:54: RuntimeWarning: overflow encountered in ubyte_scalars\n",
      "C:\\Users\\Johnatan\\Anaconda3\\lib\\site-packages\\ipykernel_launcher.py:46: RuntimeWarning: overflow encountered in ubyte_scalars\n",
      "C:\\Users\\Johnatan\\Anaconda3\\lib\\site-packages\\ipykernel_launcher.py:45: RuntimeWarning: overflow encountered in ubyte_scalars\n",
      "C:\\Users\\Johnatan\\Anaconda3\\lib\\site-packages\\ipykernel_launcher.py:47: RuntimeWarning: overflow encountered in ubyte_scalars\n"
     ]
    },
    {
     "ename": "SystemExit",
     "evalue": "",
     "output_type": "error",
     "traceback": [
      "An exception has occurred, use %tb to see the full traceback.\n",
      "\u001b[1;31mSystemExit\u001b[0m\n"
     ]
    },
    {
     "name": "stderr",
     "output_type": "stream",
     "text": [
      "C:\\Users\\Johnatan\\Anaconda3\\lib\\site-packages\\IPython\\core\\interactiveshell.py:2971: UserWarning: To exit: use 'exit', 'quit', or Ctrl-D.\n",
      "  warn(\"To exit: use 'exit', 'quit', or Ctrl-D.\", stacklevel=1)\n"
     ]
    }
   ],
   "source": [
    "main(\"carpapeque.jpg\",\"redcar.jpg\",160)"
   ]
  },
  {
   "cell_type": "markdown",
   "metadata": {},
   "source": [
    "# Area de pruebas"
   ]
  }
 ],
 "metadata": {
  "kernelspec": {
   "display_name": "Python 3",
   "language": "python",
   "name": "python3"
  },
  "language_info": {
   "codemirror_mode": {
    "name": "ipython",
    "version": 3
   },
   "file_extension": ".py",
   "mimetype": "text/x-python",
   "name": "python",
   "nbconvert_exporter": "python",
   "pygments_lexer": "ipython3",
   "version": "3.6.5"
  }
 },
 "nbformat": 4,
 "nbformat_minor": 2
}
