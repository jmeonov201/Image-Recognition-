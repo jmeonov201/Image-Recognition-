{
 "cells": [
  {
   "cell_type": "markdown",
   "metadata": {},
   "source": [
    "# Johantan Meoño"
   ]
  },
  {
   "cell_type": "markdown",
   "metadata": {},
   "source": [
    "# Kany"
   ]
  },
  {
   "cell_type": "code",
   "execution_count": 1,
   "metadata": {},
   "outputs": [],
   "source": [
    "import numpy as np ## para las matrices y vectores o tensores"
   ]
  },
  {
   "cell_type": "code",
   "execution_count": 2,
   "metadata": {},
   "outputs": [],
   "source": [
    "import cv2 ## jalando open cv carga y lee imagenes"
   ]
  },
  {
   "cell_type": "code",
   "execution_count": 3,
   "metadata": {},
   "outputs": [],
   "source": [
    "import sys ## para sacar de memoria o sacar el programa"
   ]
  },
  {
   "cell_type": "code",
   "execution_count": 4,
   "metadata": {},
   "outputs": [],
   "source": [
    "from operator import xor"
   ]
  },
  {
   "cell_type": "code",
   "execution_count": 5,
   "metadata": {},
   "outputs": [],
   "source": [
    "from collections import Counter"
   ]
  },
  {
   "cell_type": "code",
   "execution_count": 6,
   "metadata": {},
   "outputs": [],
   "source": [
    "## creando la fucion\n",
    "def main(imagen1):\n",
    "    imgStr1 = imagen1 ## creo un objeto y le asigno un valor string con el nombre de la imagen\n",
    "    img1 = cv2.imread(imgStr1) ## creo un nuevo objeto que va a leer la imagen cread en la fila de arriba  \n",
    "    \n",
    "    ## tamañao de la imagen\n",
    "    alto1 = img1.shape[0]\n",
    "    ancho1 = img1.shape[1]\n",
    "    canales1 = img1.shape[2]\n",
    "    \n",
    "   \n",
    "    ## cubo de ceros con las dimensiones de la imagen\n",
    "    ## se pondra tres pues se trabajara sobre la imagen a colores\n",
    "    ## cons sus tres canales \n",
    "    ## canal 1 es el canal azul\n",
    "    ## canal 2 es el canal verde\n",
    "    ## canal 3 es el canal rojo\n",
    "    ## cubo que recibe la suma \n",
    "    gris1 = np.zeros((alto1,ancho1,1))\n",
    "    \n",
    "    kernel = np.array ([[1/16,2/16,1/16],\n",
    "                        [2/16,4/16,2/16],\n",
    "                        [1/16,2/16,1/16],\n",
    "                                       ]) ## gaussian\n",
    "    \n",
    "    #kernel = (1/9) * np.array ([[1,2,1],\n",
    "    #                            [2,4,2],\n",
    "    #                            [1,2,1],\n",
    "    #                                  ]) ## gaussian blur\n",
    "    \n",
    "    convolusion = np.zeros((alto1,ancho1,1))\n",
    "    \n",
    "    cubo_y = np.zeros((alto1,ancho1,1))\n",
    "    cubo_x = np.zeros((alto1,ancho1,1))\n",
    "    cubo_gra = np.zeros((alto1,ancho1,1))\n",
    "    cubo_fase = np.zeros((alto1,ancho1,1))\n",
    "    cubo_fase_360 = np.zeros((alto1,ancho1,1))\n",
    "    \n",
    "\n",
    "    ## llenando de azul la imagen \n",
    "    for i in range(alto1):\n",
    "        for j in range(ancho1):\n",
    "            pixel1 = img1[i,j] ## extraigo de la imagen en la posicion i, j, el pixel\n",
    "            #***********************************************************************************************************\n",
    "            ## gris1\n",
    "            grisponderado1 = int((int(pixel1[0]*0.11)+int(pixel1[1]*0.59)+int(pixel1[2])*0.30)) ## calculo el pixel gris                       \n",
    "            gris1[i,j] = grisponderado1 ## lleno el cubo con los valores del pixel gris\n",
    "            \n",
    "    ## CONVOLUSION\n",
    "    ## subporcionando \n",
    "    for i in range(alto1-2):\n",
    "        for j in range(ancho1-2):\n",
    "            ## subporciones\n",
    "            porcion_gris = np.sum((gris1[i:i+3,j:j+3])*kernel)\n",
    "\n",
    "            \n",
    "            ## lleando la convolusion \n",
    "            convolusion[i,j] = [porcion_gris]\n",
    "              \n",
    "    ## derivadas\n",
    "    ## derivada en Y\n",
    "    for i in range(alto1-1):\n",
    "        for j in range(ancho1):\n",
    "            \n",
    "            cambio_y = gris1[i+1,j]-gris1[i,j]\n",
    "            cubo_y[i,j] = cambio_y\n",
    "            \n",
    "    ## derivada en x\n",
    "    for i in range(alto1):\n",
    "        for j in range(ancho1-1):\n",
    "            cambio_x = gris1[i,j+1]-gris1[i,j]\n",
    "            cubo_x[i,j] = cambio_x\n",
    "            \n",
    "    ## gradiente\n",
    "    for i in range(alto1):\n",
    "        for j in range(ancho1):\n",
    "            y = cubo_y[i,j]\n",
    "            x = cubo_x[i,j]\n",
    "            norma = np.sqrt(np.power(y,2)+np.power(x,2))\n",
    "            cubo_gra[i,j] = norma\n",
    "    \n",
    "    ## fase\n",
    "    for i in range(alto1):\n",
    "        for j in range(ancho1):\n",
    "            y = cubo_y[i,j]\n",
    "            x = cubo_x[i,j]\n",
    "            angulo = np.arctan2(y,x)*(180 / np.pi)\n",
    "            cubo_fase[i,j] = angulo\n",
    "            \n",
    "            if (angulo < 0):\n",
    "                angAux = 360 + angulo\n",
    "            else:\n",
    "                angAux = angulo\n",
    "            \n",
    "            cubo_fase_360[i,j] = angAux\n",
    "                    \n",
    "    ## para que fucione el ciclo debo:\n",
    "    ## bajar la imagen al disco\n",
    "    cv2.imwrite(\"convolu\"+str(imagen1)+\".jpg\",convolusion)\n",
    "    cv2.imwrite(\"y\"+str(imagen1)+\".jpg\",cubo_y)\n",
    "    cv2.imwrite(\"x\"+str(imagen1)+\".jpg\",cubo_x)\n",
    "    cv2.imwrite(\"gra\"+str(imagen1)+\".jpg\",cubo_gra)\n",
    "    cv2.imwrite(\"fase\"+str(imagen1)+\".jpg\",cubo_fase)\n",
    "    cv2.imwrite(\"fase_360\"+str(imagen1)+\".jpg\",cubo_fase_360)\n",
    "       \n",
    "    ## la vuelvo a cargar o leer\n",
    "    convolusion = cv2.imread(\"convolu\"+str(imagen1)+\".jpg\")\n",
    "    cubo_y = cv2.imread(\"y\"+str(imagen1)+\".jpg\")\n",
    "    cubo_x = cv2.imread(\"x\"+str(imagen1)+\".jpg\")\n",
    "    cubo_gra = cv2.imread(\"gra\"+str(imagen1)+\".jpg\")\n",
    "    cubo_fase = cv2.imread(\"fase\"+str(imagen1)+\".jpg\")\n",
    "    cubo_fase_360 = cv2.imread(\"fase_360\"+str(imagen1)+\".jpg\")\n",
    "    \n",
    "    ## y la muestro\n",
    "    cv2.imshow(\"convolu\"+str(imagen1)+\".jpg\",convolusion)\n",
    "    cv2.imshow(\"y\"+str(imagen1)+\".jpg\",cubo_y)\n",
    "    cv2.imshow(\"x\"+str(imagen1)+\".jpg\",cubo_x)\n",
    "    cv2.imshow(\"gra\"+str(imagen1)+\".jpg\",cubo_gra)\n",
    "    cv2.imshow(\"fase\"+str(imagen1)+\".jpg\",cubo_fase)\n",
    "    cv2.imshow(\"fase_360\"+str(imagen1)+\".jpg\",cubo_fase_360)\n",
    "            \n",
    "    ## comandos para cerrar imagenes\n",
    "    cv2.waitKey(0) ## espera que apeche tecla para cerrar\n",
    "    cv2.destroyAllWindows() ## si tngo varias ventas cierra todoas las ventanas a la vez\n",
    "    sys.exit() ##"
   ]
  },
  {
   "cell_type": "code",
   "execution_count": 7,
   "metadata": {},
   "outputs": [
    {
     "ename": "SystemExit",
     "evalue": "",
     "output_type": "error",
     "traceback": [
      "An exception has occurred, use %tb to see the full traceback.\n",
      "\u001b[1;31mSystemExit\u001b[0m\n"
     ]
    },
    {
     "name": "stderr",
     "output_type": "stream",
     "text": [
      "C:\\Users\\Johnatan\\Anaconda3\\lib\\site-packages\\IPython\\core\\interactiveshell.py:2971: UserWarning: To exit: use 'exit', 'quit', or Ctrl-D.\n",
      "  warn(\"To exit: use 'exit', 'quit', or Ctrl-D.\", stacklevel=1)\n"
     ]
    }
   ],
   "source": [
    "main(\"img1.jpg\")"
   ]
  },
  {
   "cell_type": "code",
   "execution_count": 8,
   "metadata": {},
   "outputs": [
    {
     "ename": "SystemExit",
     "evalue": "",
     "output_type": "error",
     "traceback": [
      "An exception has occurred, use %tb to see the full traceback.\n",
      "\u001b[1;31mSystemExit\u001b[0m\n"
     ]
    },
    {
     "name": "stderr",
     "output_type": "stream",
     "text": [
      "C:\\Users\\Johnatan\\Anaconda3\\lib\\site-packages\\IPython\\core\\interactiveshell.py:2971: UserWarning: To exit: use 'exit', 'quit', or Ctrl-D.\n",
      "  warn(\"To exit: use 'exit', 'quit', or Ctrl-D.\", stacklevel=1)\n"
     ]
    }
   ],
   "source": [
    "main(\"Lena-jpg-playboy_.jpg\")"
   ]
  },
  {
   "cell_type": "markdown",
   "metadata": {},
   "source": [
    "# Area de pruebas"
   ]
  }
 ],
 "metadata": {
  "kernelspec": {
   "display_name": "Python 3",
   "language": "python",
   "name": "python3"
  },
  "language_info": {
   "codemirror_mode": {
    "name": "ipython",
    "version": 3
   },
   "file_extension": ".py",
   "mimetype": "text/x-python",
   "name": "python",
   "nbconvert_exporter": "python",
   "pygments_lexer": "ipython3",
   "version": "3.6.5"
  }
 },
 "nbformat": 4,
 "nbformat_minor": 2
}
